{
 "cells": [
  {
   "cell_type": "code",
   "execution_count": 1,
   "id": "b3480617",
   "metadata": {},
   "outputs": [],
   "source": [
    "import os\n",
    "import pandas as pd\n",
    "from pathlib import Path"
   ]
  },
  {
   "cell_type": "code",
   "execution_count": 2,
   "id": "618ba8af",
   "metadata": {},
   "outputs": [],
   "source": [
    "# --- 1. Đường dẫn ---\n",
    "base_dir = Path(r\"C:\\Downloads\\Corn_data_3_region\\corn_progress\")\n",
    "out_file = Path(r\"C:\\Downloads\\Corn_data_merged_3_region\\corn_progress_all_years_3region.csv\")"
   ]
  },
  {
   "cell_type": "code",
   "execution_count": 3,
   "id": "b7bd6e97",
   "metadata": {},
   "outputs": [],
   "source": [
    "# --- 2. Bảng ánh xạ vùng ---\n",
    "REGION_MAP = {\n",
    "    # Temperate Humid (9)\n",
    "    \"IA\":\"Temperate Humid\",\"IL\":\"Temperate Humid\",\"IN\":\"Temperate Humid\",\n",
    "    \"MO\":\"Temperate Humid\",\"OH\":\"Temperate Humid\",\"MI\":\"Temperate Humid\",\n",
    "    \"MN\":\"Temperate Humid\",\"WI\":\"Temperate Humid\",\"PA\":\"Temperate Humid\",\n",
    "    # Semi-Arid Continental (6)\n",
    "    \"ND\":\"Semi-Arid Continental\",\"SD\":\"Semi-Arid Continental\",\"NE\":\"Semi-Arid Continental\",\n",
    "    \"KS\":\"Semi-Arid Continental\",\"CO\":\"Semi-Arid Continental\",\"TX\":\"Semi-Arid Continental\",\n",
    "    # Subtropical Humid (3)\n",
    "    \"KY\":\"Subtropical Humid\",\"TN\":\"Subtropical Humid\",\"NC\":\"Subtropical Humid\"\n",
    "}\n"
   ]
  },
  {
   "cell_type": "code",
   "execution_count": 4,
   "id": "baf72b09",
   "metadata": {},
   "outputs": [],
   "source": [
    "# --- 3. Gộp toàn bộ dữ liệu ---\n",
    "all_dfs = []\n",
    "\n",
    "for year_dir in sorted(base_dir.iterdir()):\n",
    "    if not year_dir.is_dir():\n",
    "        continue\n",
    "\n",
    "    for csv_file in sorted(year_dir.glob(\"*.csv\")):\n",
    "        df = pd.read_csv(csv_file)\n",
    "        df.columns = [c.strip().lower() for c in df.columns]\n",
    "\n",
    "        if \"state_alpha\" in df.columns:\n",
    "            df[\"region\"] = df[\"state_alpha\"].map(REGION_MAP)\n",
    "        else:\n",
    "            print(f\" Thiếu cột state_alpha trong {csv_file.name}\")\n",
    "\n",
    "        # --- Sắp lại vị trí cột: đưa region ngay sau state_alpha ---\n",
    "        if \"region\" in df.columns and \"state_alpha\" in df.columns:\n",
    "            cols = list(df.columns)\n",
    "            region_pos = cols.index(\"state_alpha\") + 1\n",
    "            # bỏ region rồi chèn lại sau state_alpha\n",
    "            cols.remove(\"region\")\n",
    "            cols.insert(region_pos, \"region\")\n",
    "            df = df[cols]\n",
    "\n",
    "        all_dfs.append(df)\n"
   ]
  },
  {
   "cell_type": "code",
   "execution_count": 5,
   "id": "61d2e8c3",
   "metadata": {},
   "outputs": [
    {
     "name": "stdout",
     "output_type": "stream",
     "text": [
      " Đã gộp xong progress + region\n",
      " File: C:\\Downloads\\Corn_data_merged_3_region\\corn_progress_all_years_3region.csv\n",
      " Dòng: 11,890 | Cột: 13\n",
      " Thứ tự cột: ['year', 'state_name', 'state_alpha', 'region', 'week_ending', 'week', 'planted', 'emerged', 'silking', 'doughing', 'dented', 'mature', 'harvested']\n"
     ]
    }
   ],
   "source": [
    "# --- 4. Gộp toàn bộ ---\n",
    "merged = pd.concat(all_dfs, ignore_index=True)\n",
    "\n",
    "# --- 5. Ghi file tổng (tạo mới hoặc append) ---\n",
    "mode, header = (\"w\", True) if not out_file.exists() else (\"a\", False)\n",
    "merged.to_csv(out_file, mode=mode, header=header, index=False, encoding=\"utf-8-sig\")\n",
    "\n",
    "print(f\" Đã gộp xong progress + region\")\n",
    "print(f\" File: {out_file}\")\n",
    "print(f\" Dòng: {len(merged):,} | Cột: {len(merged.columns)}\")\n",
    "print(\" Thứ tự cột:\", merged.columns.tolist())\n"
   ]
  }
 ],
 "metadata": {
  "kernelspec": {
   "display_name": "Python 3",
   "language": "python",
   "name": "python3"
  },
  "language_info": {
   "codemirror_mode": {
    "name": "ipython",
    "version": 3
   },
   "file_extension": ".py",
   "mimetype": "text/x-python",
   "name": "python",
   "nbconvert_exporter": "python",
   "pygments_lexer": "ipython3",
   "version": "3.14.0"
  }
 },
 "nbformat": 4,
 "nbformat_minor": 5
}
