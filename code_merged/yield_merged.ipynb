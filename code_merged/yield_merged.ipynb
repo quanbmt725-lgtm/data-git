{
 "cells": [
  {
   "cell_type": "code",
   "execution_count": 1,
   "id": "7b7ee82c",
   "metadata": {},
   "outputs": [],
   "source": [
    "import os\n",
    "import pandas as pd"
   ]
  },
  {
   "cell_type": "code",
   "execution_count": 2,
   "id": "608fcf89",
   "metadata": {},
   "outputs": [],
   "source": [
    "# === 1. Đường dẫn thư mục ===\n",
    "input_dir = r\"C:\\Downloads\\Corn_data_3_region\\Corn_harvested_grain_3region\"\n",
    "output_dir = r\"C:\\Downloads\\Corn_data_merged_3_region\"\n",
    "os.makedirs(output_dir, exist_ok=True)"
   ]
  },
  {
   "cell_type": "code",
   "execution_count": 3,
   "id": "e3e29ec7",
   "metadata": {},
   "outputs": [],
   "source": [
    "# === 2. Đọc và gộp toàn bộ file ===\n",
    "all_data = []\n",
    "\n",
    "for file in sorted(os.listdir(input_dir)):\n",
    "    if file.endswith(\"_3region.csv\"):\n",
    "        file_path = os.path.join(input_dir, file)\n",
    "        df = pd.read_csv(file_path)\n",
    "        all_data.append(df)\n",
    "\n",
    "# Gộp tất cả lại thành 1 DataFrame\n",
    "merged_df = pd.concat(all_data, ignore_index=True)\n",
    "\n",
    "# === 3. Làm sạch nhẹ (nếu cần) ===\n",
    "# Chuyển tên cột thống nhất\n",
    "merged_df.columns = [c.strip() for c in merged_df.columns]\n",
    "\n",
    "# Kiểm tra trùng lặp\n",
    "merged_df = merged_df.drop_duplicates()\n",
    "\n",
    "# === 4. Sắp xếp để dễ phân tích ===\n",
    "merged_df = merged_df.sort_values(by=[\"year\", \"state_alpha\"]).reset_index(drop=True)\n",
    "\n"
   ]
  },
  {
   "cell_type": "code",
   "execution_count": 4,
   "id": "ecab3919",
   "metadata": {},
   "outputs": [
    {
     "name": "stdout",
     "output_type": "stream",
     "text": [
      " Đã gộp xong toàn bộ dữ liệu!\n",
      " File đầu ra: C:\\Downloads\\Corn_data_merged_3_region\\Corn_yield_all_years_3region.csv\n",
      " Tổng số dòng: 360\n",
      " Số năm: 20\n",
      " Số bang: 18\n"
     ]
    }
   ],
   "source": [
    "# === 5. Lưu ra file tổng hợp ===\n",
    "output_file = os.path.join(output_dir, \"Corn_yield_all_years_3region.csv\")\n",
    "\n",
    "# nếu chưa có file thì tạo mới, có rồi thì append thêm\n",
    "mode, header = (\"w\", True) if not os.path.exists(output_file) else (\"a\", False)\n",
    "merged_df.to_csv(output_file, mode=mode, header=header, index=False, encoding=\"utf-8-sig\")\n",
    "\n",
    "\n",
    "print(\" Đã gộp xong toàn bộ dữ liệu!\")\n",
    "print(f\" File đầu ra: {output_file}\")\n",
    "print(f\" Tổng số dòng: {len(merged_df):,}\")\n",
    "print(f\" Số năm: {merged_df['year'].nunique()}\")\n",
    "print(f\" Số bang: {merged_df['state_alpha'].nunique()}\")\n"
   ]
  }
 ],
 "metadata": {
  "kernelspec": {
   "display_name": "Python 3",
   "language": "python",
   "name": "python3"
  },
  "language_info": {
   "codemirror_mode": {
    "name": "ipython",
    "version": 3
   },
   "file_extension": ".py",
   "mimetype": "text/x-python",
   "name": "python",
   "nbconvert_exporter": "python",
   "pygments_lexer": "ipython3",
   "version": "3.14.0"
  }
 },
 "nbformat": 4,
 "nbformat_minor": 5
}
