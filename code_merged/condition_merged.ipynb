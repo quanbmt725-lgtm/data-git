{
 "cells": [
  {
   "cell_type": "code",
   "execution_count": 17,
   "id": "078f0b41",
   "metadata": {},
   "outputs": [],
   "source": [
    "import os\n",
    "import pandas as pd\n",
    "from pathlib import Path\n"
   ]
  },
  {
   "cell_type": "code",
   "execution_count": 18,
   "id": "5ef9f2bc",
   "metadata": {},
   "outputs": [],
   "source": [
    "# --- 1. Đường dẫn ---\n",
    "base_dir = Path(r\"C:\\Downloads\\Corn_data_3_region\\corn_condition\")\n",
    "out_file = Path(r\"C:\\Downloads\\Corn_data_merged_3_region\\corn_condition_all_years_3region.csv\")\n"
   ]
  },
  {
   "cell_type": "code",
   "execution_count": 19,
   "id": "1a594bea",
   "metadata": {},
   "outputs": [],
   "source": [
    "# --- 2. Bảng ánh xạ vùng ---\n",
    "REGION_MAP = {\n",
    "    # Temperate Humid (9)\n",
    "    \"IA\":\"Temperate Humid\",\"IL\":\"Temperate Humid\",\"IN\":\"Temperate Humid\",\n",
    "    \"MO\":\"Temperate Humid\",\"OH\":\"Temperate Humid\",\"MI\":\"Temperate Humid\",\n",
    "    \"MN\":\"Temperate Humid\",\"WI\":\"Temperate Humid\",\"PA\":\"Temperate Humid\",\n",
    "    # Semi-Arid Continental (6)\n",
    "    \"ND\":\"Semi-Arid Continental\",\"SD\":\"Semi-Arid Continental\",\"NE\":\"Semi-Arid Continental\",\n",
    "    \"KS\":\"Semi-Arid Continental\",\"CO\":\"Semi-Arid Continental\",\"TX\":\"Semi-Arid Continental\",\n",
    "    # Subtropical Humid (3)\n",
    "    \"KY\":\"Subtropical Humid\",\"TN\":\"Subtropical Humid\",\"NC\":\"Subtropical Humid\"\n",
    "}"
   ]
  },
  {
   "cell_type": "code",
   "execution_count": 20,
   "id": "173cebf1",
   "metadata": {},
   "outputs": [],
   "source": [
    "# --- 3. Gộp dữ liệu ---\n",
    "all_dfs = []\n",
    "\n",
    "for year_dir in sorted(base_dir.iterdir()):\n",
    "    if not year_dir.is_dir():\n",
    "        continue\n",
    "\n",
    "    for csv_file in sorted(year_dir.glob(\"*.csv\")):\n",
    "        df = pd.read_csv(csv_file)\n",
    "        df.columns = [c.strip().lower() for c in df.columns]\n",
    "\n",
    "        if \"state_alpha\" in df.columns:\n",
    "            df[\"region\"] = df[\"state_alpha\"].map(REGION_MAP)\n",
    "        else:\n",
    "            print(f\" Thiếu cột state_alpha trong {csv_file.name}\")\n",
    "\n",
    "        # --- Chèn region sau state_alpha ---\n",
    "        if \"region\" in df.columns and \"state_alpha\" in df.columns:\n",
    "            cols = list(df.columns)\n",
    "            region_pos = cols.index(\"state_alpha\") + 1\n",
    "            cols.remove(\"region\")\n",
    "            cols.insert(region_pos, \"region\")\n",
    "            df = df[cols]\n",
    "\n",
    "        all_dfs.append(df)"
   ]
  },
  {
   "cell_type": "code",
   "execution_count": 21,
   "id": "b22ebd86",
   "metadata": {},
   "outputs": [
    {
     "name": "stdout",
     "output_type": "stream",
     "text": [
      " Đã gộp xong dữ liệu Corn Condition + Region!\n",
      " File đầu ra: C:\\Downloads\\Corn_data_merged_3_region\\corn_condition_all_years_3region.csv\n",
      " Tổng dòng: 8,214 | Cột: 11\n",
      " Cột: ['year', 'state_name', 'state_alpha', 'region', 'week_ending', 'week', 'excellent', 'good', 'fair', 'poor', 'very poor']\n",
      " Các vùng: ['Semi-Arid Continental' 'Temperate Humid' 'Subtropical Humid']\n"
     ]
    }
   ],
   "source": [
    "# --- 4. Gộp tất cả ---\n",
    "merged = pd.concat(all_dfs, ignore_index=True)\n",
    "\n",
    "# --- 5. Ghi file tổng ---\n",
    "mode, header = (\"w\", True) if not out_file.exists() else (\"a\", False)\n",
    "merged.to_csv(out_file, mode=mode, header=header, index=False, encoding=\"utf-8-sig\")\n",
    "\n",
    "print(f\" Đã gộp xong dữ liệu Corn Condition + Region!\")\n",
    "print(f\" File đầu ra: {out_file}\")\n",
    "print(f\" Tổng dòng: {len(merged):,} | Cột: {len(merged.columns)}\")\n",
    "print(\" Cột:\", merged.columns.tolist())\n",
    "print(\" Các vùng:\", merged['region'].dropna().unique())"
   ]
  }
 ],
 "metadata": {
  "kernelspec": {
   "display_name": "Python 3",
   "language": "python",
   "name": "python3"
  },
  "language_info": {
   "codemirror_mode": {
    "name": "ipython",
    "version": 3
   },
   "file_extension": ".py",
   "mimetype": "text/x-python",
   "name": "python",
   "nbconvert_exporter": "python",
   "pygments_lexer": "ipython3",
   "version": "3.14.0"
  }
 },
 "nbformat": 4,
 "nbformat_minor": 5
}
