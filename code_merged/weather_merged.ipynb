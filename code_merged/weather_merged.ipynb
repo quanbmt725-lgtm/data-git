{
 "cells": [
  {
   "cell_type": "code",
   "execution_count": 1,
   "id": "4558a35b",
   "metadata": {},
   "outputs": [],
   "source": [
    "import os\n",
    "from pathlib import Path\n",
    "import pandas as pd\n"
   ]
  },
  {
   "cell_type": "code",
   "execution_count": 2,
   "id": "d4fe3513",
   "metadata": {},
   "outputs": [],
   "source": [
    "# ============== CẤU HÌNH ĐƯỜNG DẪN ==============\n",
    "# Thư mục DAILY đã duyệt: mỗi năm là 1 thư mục, trong đó chứa các CSV theo bang\n",
    "SRC_BASE   = r\"C:\\Downloads\\Corn_data_3_region\\corn_weather_3region\"\n",
    "# File weekly TỔNG (một file duy nhất)\n",
    "OUT_FILE   = r\"C:\\Downloads\\Corn_data_merged_3_region\\weather_weekly_all_years_3region.csv\""
   ]
  },
  {
   "cell_type": "code",
   "execution_count": 3,
   "id": "ae68557a",
   "metadata": {},
   "outputs": [],
   "source": [
    "# ============== MAPPING TÊN BANG & VÙNG ==============\n",
    "STATE_NAME = {\n",
    "    \"CO\":\"COLORADO\",\"IA\":\"IOWA\",\"IL\":\"ILLINOIS\",\"IN\":\"INDIANA\",\"KS\":\"KANSAS\",\"KY\":\"KENTUCKY\",\n",
    "    \"MI\":\"MICHIGAN\",\"MN\":\"MINNESOTA\",\"MO\":\"MISSOURI\",\"NC\":\"NORTH CAROLINA\",\"ND\":\"NORTH DAKOTA\",\n",
    "    \"NE\":\"NEBRASKA\",\"OH\":\"OHIO\",\"PA\":\"PENNSYLVANIA\",\"SD\":\"SOUTH DAKOTA\",\"TN\":\"TENNESSEE\",\n",
    "    \"TX\":\"TEXAS\",\"WI\":\"WISCONSIN\"\n",
    "}\n",
    "REGION_MAP = {\n",
    "    # Temperate Humid (9)\n",
    "    \"IA\":\"Temperate Humid\",\"IL\":\"Temperate Humid\",\"IN\":\"Temperate Humid\",\"MO\":\"Temperate Humid\",\n",
    "    \"OH\":\"Temperate Humid\",\"MI\":\"Temperate Humid\",\"MN\":\"Temperate Humid\",\"WI\":\"Temperate Humid\",\"PA\":\"Temperate Humid\",\n",
    "    # Semi-Arid Continental (6)\n",
    "    \"ND\":\"Semi-Arid Continental\",\"SD\":\"Semi-Arid Continental\",\"NE\":\"Semi-Arid Continental\",\n",
    "    \"KS\":\"Semi-Arid Continental\",\"CO\":\"Semi-Arid Continental\",\"TX\":\"Semi-Arid Continental\",\n",
    "    # Subtropical Humid (3)\n",
    "    \"KY\":\"Subtropical Humid\",\"TN\":\"Subtropical Humid\",\"NC\":\"Subtropical Humid\"\n",
    "}"
   ]
  },
  {
   "cell_type": "code",
   "execution_count": 4,
   "id": "c783e25f",
   "metadata": {},
   "outputs": [],
   "source": [
    "# ============== CHUYỂN 1 FILE DAILY → WEEKLY ==============\n",
    "def daily_to_weekly(csv_path: Path) -> pd.DataFrame:\n",
    "    df = pd.read_csv(csv_path)\n",
    "    df.columns = [c.strip().upper() for c in df.columns]\n",
    "\n",
    "    # bỏ WTxx\n",
    "    df = df[[c for c in df.columns if not c.startswith(\"WT\")]].copy()\n",
    "\n",
    "    # kiểm tra cột bắt buộc\n",
    "    if \"STATE\" not in df.columns or \"DATE\" not in df.columns:\n",
    "        raise ValueError(f\"{csv_path.name}: thiếu STATE hoặc DATE\")\n",
    "\n",
    "    # chuẩn DATE\n",
    "    df[\"DATE\"] = pd.to_datetime(df[\"DATE\"], errors=\"coerce\")\n",
    "    df = df.dropna(subset=[\"DATE\"]).set_index(\"DATE\").sort_index()\n",
    "\n",
    "    # ép numeric cho các cột khí hậu\n",
    "    for col in [\"PRCP\",\"RH\",\"TMAX\",\"TMIN\",\"TAVG\"]:\n",
    "        if col in df.columns:\n",
    "            df[col] = pd.to_numeric(df[col], errors=\"coerce\")\n",
    "\n",
    "    # resample tuần kết thúc CHỦ NHẬT (bao gồm Chủ nhật)\n",
    "    res = df.resample(\"W-SUN\", label=\"right\", closed=\"right\")\n",
    "\n",
    "    # lấy key nhận diện & meta\n",
    "    state_alpha = res[\"STATE\"].first().rename(\"state_alpha\")\n",
    "    state_name  = state_alpha.map(STATE_NAME).rename(\"state_name\")\n",
    "    region      = state_alpha.map(REGION_MAP).rename(\"region\")\n",
    "\n",
    "    # tính chỉ số tuần\n",
    "    out = pd.DataFrame({\n",
    "        \"state_alpha\": state_alpha,\n",
    "        \"state_name\":  state_name,\n",
    "        \"region\":      region,\n",
    "        \"tmax\":     res[\"TMAX\"].mean(),\n",
    "        \"tmin\":     res[\"TMIN\"].mean(),\n",
    "        \"tavg\":     res[\"TAVG\"].mean(),\n",
    "        \"prcp_sum\": res[\"PRCP\"].sum(min_count=1),   # tổng mưa tuần\n",
    "        \"prcp_mean\":res[\"PRCP\"].mean(),             # trung bình mưa ngày trong tuần\n",
    "        \"rh\":       res[\"RH\"].mean(),\n",
    "    }).reset_index().rename(columns={\"DATE\":\"week_ending\"})\n",
    "\n",
    "    # thêm year (từ week_ending)\n",
    "    out[\"year\"] = out[\"week_ending\"].dt.year.astype(int)\n",
    "\n",
    "    # thứ tự cột chuẩn\n",
    "    out = out[[\"state_alpha\",\"state_name\",\"year\",\"region\",\"week_ending\",\n",
    "               \"tmax\",\"tmin\",\"tavg\",\"prcp_sum\",\"prcp_mean\",\"rh\"]]\n",
    "    return out\n"
   ]
  },
  {
   "cell_type": "code",
   "execution_count": 5,
   "id": "85ca6f64",
   "metadata": {},
   "outputs": [],
   "source": [
    "# ============== QUÉT TẤT CẢ NĂM & GỘP ==============\n",
    "def build_all_years(src_base: str) -> pd.DataFrame:\n",
    "    frames = []\n",
    "    for year_dir in sorted(Path(src_base).iterdir()):\n",
    "        if not year_dir.is_dir():\n",
    "            continue\n",
    "        for csv_path in sorted(year_dir.glob(\"*.csv\")):\n",
    "            try:\n",
    "                wk = daily_to_weekly(csv_path)\n",
    "                \n",
    "                wk = wk[wk[\"year\"] == int(year_dir.name)]\n",
    "                frames.append(wk)\n",
    "            except Exception as e:\n",
    "                print(f\"[WARN] {csv_path.name}: {e}\")\n",
    "    if not frames:\n",
    "        raise SystemExit(\"Không thu được dữ liệu nào.\")\n",
    "    weekly_all = (pd.concat(frames, ignore_index=True)\n",
    "                    .sort_values([\"state_alpha\",\"year\",\"week_ending\"])\n",
    "                    .reset_index(drop=True))\n",
    "    return weekly_all\n"
   ]
  },
  {
   "cell_type": "code",
   "execution_count": 6,
   "id": "c98a9e3c",
   "metadata": {},
   "outputs": [
    {
     "name": "stdout",
     "output_type": "stream",
     "text": [
      " Đã tạo file weekly tổng: C:\\Downloads\\Corn_data_merged_3_region\\weather_weekly_all_years_3region.csv\n",
      "   Số dòng: 18,792 | Số cột: 11\n",
      "   Cột: ['state_alpha', 'state_name', 'year', 'region', 'week_ending', 'tmax', 'tmin', 'tavg', 'prcp_sum', 'prcp_mean', 'rh']\n"
     ]
    }
   ],
   "source": [
    "if __name__ == \"__main__\":\n",
    "    weekly_all = build_all_years(SRC_BASE)\n",
    "    out_path = Path(OUT_FILE)\n",
    "    out_dir  = out_path.parent\n",
    "\n",
    "    # nếu chưa có file tổng thì tạo mới, nếu đã có thì append thêm\n",
    "    mode, header = (\"w\", True) if not out_path.exists() else (\"a\", False)\n",
    "    weekly_all.to_csv(out_path, mode=mode, header=header, index=False, encoding=\"utf-8-sig\")\n",
    "\n",
    "\n",
    "    print(f\" Đã tạo file weekly tổng: {out_path}\")\n",
    "    print(f\"   Số dòng: {len(weekly_all):,} | Số cột: {len(weekly_all.columns)}\")\n",
    "    print(\"   Cột:\", weekly_all.columns.tolist())\n",
    "\n"
   ]
  }
 ],
 "metadata": {
  "kernelspec": {
   "display_name": "Python 3",
   "language": "python",
   "name": "python3"
  },
  "language_info": {
   "codemirror_mode": {
    "name": "ipython",
    "version": 3
   },
   "file_extension": ".py",
   "mimetype": "text/x-python",
   "name": "python",
   "nbconvert_exporter": "python",
   "pygments_lexer": "ipython3",
   "version": "3.14.0"
  }
 },
 "nbformat": 4,
 "nbformat_minor": 5
}
